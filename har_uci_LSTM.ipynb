{
  "cells": [
    {
      "cell_type": "code",
      "execution_count": null,
      "metadata": {
        "id": "__LWbh-0Q40l"
      },
      "outputs": [],
      "source": [
        "import numpy as np\n",
        "import pandas as pd\n",
        "import tensorflow as tf\n",
        "from tensorflow import keras\n",
        "import os"
      ]
    },
    {
      "cell_type": "markdown",
      "source": [
        "Dataset can be found here: http://archive.ics.uci.edu/ml/datasets/Smartphone-Based+Recognition+of+Human+Activities+and+Postural+Transitions\n",
        "\n",
        "If you have any questions about the implementation or extending this project and capturing your own data please reach me at matt@tractionhealth.com"
      ],
      "metadata": {
        "id": "McTW3lpIVTLF"
      }
    },
    {
      "cell_type": "code",
      "execution_count": null,
      "metadata": {
        "id": "n54ihg1_Sbhj"
      },
      "outputs": [],
      "source": [
        "def load_X(X_signals_paths):\n",
        "    X_signals = []\n",
        "    \n",
        "    for signal_type_path in X_signals_paths:\n",
        "        file = open(signal_type_path, 'r')\n",
        "        # Read dataset from disk, dealing with text files' syntax\n",
        "        X_signals.append(\n",
        "            [np.array(serie, dtype=np.float32) for serie in [\n",
        "                row.replace('  ', ' ').strip().split(' ') for row in file\n",
        "            ]]\n",
        "        )\n",
        "        file.close()\n",
        "\n",
        "    \n",
        "    \n",
        "    return np.transpose(np.array(X_signals), (1, 2, 0))\n",
        "\n",
        "def load_y(y_path):\n",
        "    file = open(y_path, 'r')\n",
        "    # Read dataset from disk, dealing with text file's syntax\n",
        "    y_ = np.array(\n",
        "        [elem for elem in [\n",
        "            row.replace('  ', ' ').strip().split(' ') for row in file\n",
        "        ]], \n",
        "        dtype=np.int32\n",
        "    )\n",
        "    file.close()\n",
        "    \n",
        "    # Substract 1 to each output class for friendly 0-based indexing \n",
        "    return y_ "
      ]
    },
    {
      "cell_type": "code",
      "execution_count": null,
      "metadata": {
        "id": "SRzKFXdqZxi3"
      },
      "outputs": [],
      "source": [
        "train_features_signals_paths = [\n",
        "    DATASET_PATH + TRAIN + \"Inertial Signals/\" + signal + \"train.txt\" for signal in INPUT_SIGNAL_TYPES\n",
        "]\n",
        "test_features_signals_paths = [\n",
        "    DATASET_PATH + TEST + \"Inertial Signals/\" + signal + \"test.txt\" for signal in INPUT_SIGNAL_TYPES\n",
        "]\n",
        "\n",
        "train_features = load_X(train_features_signals_paths)\n",
        "test_features = load_X(test_features_signals_paths)"
      ]
    },
    {
      "cell_type": "code",
      "execution_count": null,
      "metadata": {
        "id": "Aj05BtmkZ1hz"
      },
      "outputs": [],
      "source": [
        "y_train_path = DATASET_PATH + TRAIN + \"y_train.txt\"\n",
        "y_test_path = DATASET_PATH + TEST + \"y_test.txt\"\n",
        "\n",
        "train_labels = load_y(y_train_path)\n",
        "test_labels = load_y(y_test_path)"
      ]
    },
    {
      "cell_type": "code",
      "execution_count": null,
      "metadata": {
        "colab": {
          "base_uri": "https://localhost:8080/"
        },
        "id": "xp9NeBMSaKlH",
        "outputId": "4ce8efd3-24a4-4397-aabd-ffa31bb9f7bd"
      },
      "outputs": [
        {
          "data": {
            "text/plain": [
              "((7352, 128, 9), (2947, 128, 9), (7352, 1), (2947, 1))"
            ]
          },
          "execution_count": 7,
          "metadata": {},
          "output_type": "execute_result"
        }
      ],
      "source": [
        "train_features.shape, test_features.shape, train_labels.shape, test_labels.shape"
      ]
    },
    {
      "cell_type": "code",
      "execution_count": null,
      "metadata": {
        "id": "6BhsLMK8-0Dz"
      },
      "outputs": [],
      "source": [
        "# Quickly one-hot encoding the labels\n",
        "df_train_labels = pd.DataFrame(train_labels, columns=[\"class\"])\n",
        "df_train_labels = pd.get_dummies(df_train_labels['class'])\n",
        "train_labels = df_train_labels.to_numpy()\n",
        "\n",
        "df_test_labels = pd.DataFrame(test_labels, columns=['class'])\n",
        "df_test_labels = pd.get_dummies(df_test_labels['class'])\n",
        "test_labels = df_test_labels.to_numpy()"
      ]
    },
    {
      "cell_type": "code",
      "execution_count": null,
      "metadata": {
        "colab": {
          "base_uri": "https://localhost:8080/"
        },
        "id": "SC-bwr4_-5Ha",
        "outputId": "6e6ed2a5-db31-4844-dfd2-1e02c9800094"
      },
      "outputs": [
        {
          "data": {
            "text/plain": [
              "array([[0, 0, 0, 0, 1, 0],\n",
              "       [0, 0, 0, 0, 1, 0],\n",
              "       [0, 0, 0, 0, 1, 0],\n",
              "       ...,\n",
              "       [0, 1, 0, 0, 0, 0],\n",
              "       [0, 1, 0, 0, 0, 0],\n",
              "       [0, 1, 0, 0, 0, 0]], dtype=uint8)"
            ]
          },
          "execution_count": 9,
          "metadata": {},
          "output_type": "execute_result"
        }
      ],
      "source": [
        "test_labels"
      ]
    },
    {
      "cell_type": "code",
      "execution_count": null,
      "metadata": {
        "id": "4LVeBqJDa4R6"
      },
      "outputs": [],
      "source": [
        " ds_train = tf.data.Dataset.from_tensor_slices((train_features, train_labels))\n",
        " ds_test = tf.data.Dataset.from_tensor_slices((test_features, test_labels))"
      ]
    },
    {
      "cell_type": "code",
      "execution_count": null,
      "metadata": {
        "id": "JdqZhIS7cB5N"
      },
      "outputs": [],
      "source": [
        "ds_train_batch = ds_train.batch(64)\n",
        "ds_test_batch = ds_test.batch(64)"
      ]
    },
    {
      "cell_type": "code",
      "execution_count": null,
      "metadata": {
        "id": "o-NXKwhUvvvQ"
      },
      "outputs": [],
      "source": [
        "model_2 = keras.Sequential([\n",
        "                            keras.layers.LSTM(6, input_shape=(128, 9)),\n",
        "                            #keras.layers.Dropout(0.2)\n",
        "                            #keras.layers.LSTM(128)\n",
        "                            keras.layers.Dense(6, activation='softmax')\n",
        "])"
      ]
    },
    {
      "cell_type": "code",
      "execution_count": null,
      "metadata": {
        "id": "241J3YvUwsqQ"
      },
      "outputs": [],
      "source": [
        "model_2.compile(loss=keras.losses.CategoricalCrossentropy(),\n",
        "             optimizer=keras.optimizers.Adam(),\n",
        "             metrics=['accuracy'])"
      ]
    },
    {
      "cell_type": "code",
      "execution_count": null,
      "metadata": {
        "colab": {
          "base_uri": "https://localhost:8080/"
        },
        "id": "4uD_Pt2Dx-4E",
        "outputId": "4b39ce54-0b17-4cc9-fb59-1e4f3adb7b29"
      },
      "outputs": [
        {
          "name": "stdout",
          "output_type": "stream",
          "text": [
            "Epoch 1/25\n",
            "115/115 [==============================] - 7s 40ms/step - loss: 1.7213 - accuracy: 0.2897\n",
            "Epoch 2/25\n",
            "115/115 [==============================] - 5s 40ms/step - loss: 1.6020 - accuracy: 0.3573\n",
            "Epoch 3/25\n",
            "115/115 [==============================] - 5s 40ms/step - loss: 1.4561 - accuracy: 0.4249\n",
            "Epoch 4/25\n",
            "115/115 [==============================] - 5s 40ms/step - loss: 1.2985 - accuracy: 0.5445\n",
            "Epoch 5/25\n",
            "115/115 [==============================] - 5s 40ms/step - loss: 1.1876 - accuracy: 0.5817\n",
            "Epoch 6/25\n",
            "115/115 [==============================] - 5s 41ms/step - loss: 1.1043 - accuracy: 0.6153\n",
            "Epoch 7/25\n",
            "115/115 [==============================] - 5s 40ms/step - loss: 1.0257 - accuracy: 0.6436\n",
            "Epoch 8/25\n",
            "115/115 [==============================] - 5s 40ms/step - loss: 1.0331 - accuracy: 0.6217\n",
            "Epoch 9/25\n",
            "115/115 [==============================] - 5s 40ms/step - loss: 0.9594 - accuracy: 0.6578\n",
            "Epoch 10/25\n",
            "115/115 [==============================] - 5s 40ms/step - loss: 0.9542 - accuracy: 0.6413\n",
            "Epoch 11/25\n",
            "115/115 [==============================] - 5s 40ms/step - loss: 0.8854 - accuracy: 0.6804\n",
            "Epoch 12/25\n",
            "115/115 [==============================] - 5s 40ms/step - loss: 0.9437 - accuracy: 0.6518\n",
            "Epoch 13/25\n",
            "115/115 [==============================] - 5s 41ms/step - loss: 0.8772 - accuracy: 0.6718\n",
            "Epoch 14/25\n",
            "115/115 [==============================] - 5s 40ms/step - loss: 0.9508 - accuracy: 0.6351\n",
            "Epoch 15/25\n",
            "115/115 [==============================] - 5s 40ms/step - loss: 0.9062 - accuracy: 0.6706\n",
            "Epoch 16/25\n",
            "115/115 [==============================] - 5s 40ms/step - loss: 0.8452 - accuracy: 0.6805\n",
            "Epoch 17/25\n",
            "115/115 [==============================] - 5s 40ms/step - loss: 0.7821 - accuracy: 0.7073\n",
            "Epoch 18/25\n",
            "115/115 [==============================] - 5s 40ms/step - loss: 0.7577 - accuracy: 0.7242\n",
            "Epoch 19/25\n",
            "115/115 [==============================] - 5s 40ms/step - loss: 0.7297 - accuracy: 0.7327\n",
            "Epoch 20/25\n",
            "115/115 [==============================] - 5s 41ms/step - loss: 0.7112 - accuracy: 0.7397\n",
            "Epoch 21/25\n",
            "115/115 [==============================] - 5s 40ms/step - loss: 0.7213 - accuracy: 0.7280\n",
            "Epoch 22/25\n",
            "115/115 [==============================] - 5s 40ms/step - loss: 0.6812 - accuracy: 0.7495\n",
            "Epoch 23/25\n",
            "115/115 [==============================] - 5s 41ms/step - loss: 0.6857 - accuracy: 0.7447\n",
            "Epoch 24/25\n",
            "115/115 [==============================] - 5s 40ms/step - loss: 0.6893 - accuracy: 0.7345\n",
            "Epoch 25/25\n",
            "115/115 [==============================] - 5s 40ms/step - loss: 0.6514 - accuracy: 0.7564\n"
          ]
        }
      ],
      "source": [
        "model_2_hist = model_2.fit(ds_train_batch, batch_size=64, epochs=25)"
      ]
    },
    {
      "cell_type": "code",
      "execution_count": null,
      "metadata": {
        "colab": {
          "base_uri": "https://localhost:8080/"
        },
        "id": "IWNcaj4jyLb2",
        "outputId": "3dcbc224-335f-4e13-9f8f-dd7489ff9b5b"
      },
      "outputs": [
        {
          "name": "stdout",
          "output_type": "stream",
          "text": [
            "Epoch 1/25\n",
            "115/115 [==============================] - 13s 82ms/step - loss: 1.7303 - accuracy: 0.3649\n",
            "Epoch 2/25\n",
            "115/115 [==============================] - 10s 83ms/step - loss: 1.4515 - accuracy: 0.4795\n",
            "Epoch 3/25\n",
            "115/115 [==============================] - 9s 81ms/step - loss: 1.3014 - accuracy: 0.5248\n",
            "Epoch 4/25\n",
            "115/115 [==============================] - 9s 82ms/step - loss: 1.2233 - accuracy: 0.5355\n",
            "Epoch 5/25\n",
            "115/115 [==============================] - 9s 81ms/step - loss: 1.1677 - accuracy: 0.5502\n",
            "Epoch 6/25\n",
            "115/115 [==============================] - 9s 81ms/step - loss: 1.0981 - accuracy: 0.5896\n",
            "Epoch 7/25\n",
            "115/115 [==============================] - 9s 82ms/step - loss: 1.1079 - accuracy: 0.5362\n",
            "Epoch 8/25\n",
            "115/115 [==============================] - 9s 82ms/step - loss: 1.0413 - accuracy: 0.5661\n",
            "Epoch 9/25\n",
            "115/115 [==============================] - 9s 81ms/step - loss: 1.1454 - accuracy: 0.4909\n",
            "Epoch 10/25\n",
            "115/115 [==============================] - 9s 81ms/step - loss: 1.0023 - accuracy: 0.5154\n",
            "Epoch 11/25\n",
            "115/115 [==============================] - 9s 81ms/step - loss: 0.9337 - accuracy: 0.5422\n",
            "Epoch 12/25\n",
            "115/115 [==============================] - 9s 81ms/step - loss: 0.9151 - accuracy: 0.5604\n",
            "Epoch 13/25\n",
            "115/115 [==============================] - 9s 81ms/step - loss: 0.8990 - accuracy: 0.5749\n",
            "Epoch 14/25\n",
            "115/115 [==============================] - 9s 82ms/step - loss: 0.9216 - accuracy: 0.5656\n",
            "Epoch 15/25\n",
            "115/115 [==============================] - 9s 80ms/step - loss: 0.9929 - accuracy: 0.5239\n",
            "Epoch 16/25\n",
            "115/115 [==============================] - 9s 81ms/step - loss: 0.9473 - accuracy: 0.5438\n",
            "Epoch 17/25\n",
            "115/115 [==============================] - 9s 80ms/step - loss: 0.9374 - accuracy: 0.5511\n",
            "Epoch 18/25\n",
            "115/115 [==============================] - 9s 80ms/step - loss: 0.9057 - accuracy: 0.5511\n",
            "Epoch 19/25\n",
            "115/115 [==============================] - 9s 80ms/step - loss: 0.8647 - accuracy: 0.6281\n",
            "Epoch 20/25\n",
            "115/115 [==============================] - 9s 80ms/step - loss: 0.8297 - accuracy: 0.6465\n",
            "Epoch 21/25\n",
            "115/115 [==============================] - 9s 80ms/step - loss: 0.8404 - accuracy: 0.6220\n",
            "Epoch 22/25\n",
            "115/115 [==============================] - 9s 80ms/step - loss: 0.8047 - accuracy: 0.6411\n",
            "Epoch 23/25\n",
            "115/115 [==============================] - 9s 82ms/step - loss: 0.7979 - accuracy: 0.6421\n",
            "Epoch 24/25\n",
            "115/115 [==============================] - 9s 80ms/step - loss: 0.7872 - accuracy: 0.6538\n",
            "Epoch 25/25\n",
            "115/115 [==============================] - 9s 81ms/step - loss: 0.7779 - accuracy: 0.6536\n"
          ]
        }
      ],
      "source": [
        "model_3 = keras.Sequential([\n",
        "                            keras.layers.LSTM(6, input_shape=(128, 9), return_sequences=True),\n",
        "                            keras.layers.Dropout(0.2),\n",
        "                            keras.layers.LSTM(6),\n",
        "                            keras.layers.Dense(6, activation='softmax')\n",
        "])\n",
        "\n",
        "model_3.compile(loss=keras.losses.CategoricalCrossentropy(),\n",
        "             optimizer=keras.optimizers.Adam(),\n",
        "             metrics=['accuracy'])\n",
        "\n",
        "model_3_hist = model_3.fit(ds_train_batch, batch_size=64, epochs=25)"
      ]
    },
    {
      "cell_type": "code",
      "execution_count": null,
      "metadata": {
        "id": "693R-KYcnNx-"
      },
      "outputs": [],
      "source": [
        ""
      ]
    },
    {
      "cell_type": "code",
      "execution_count": null,
      "metadata": {
        "id": "c1P-hqUunNvC"
      },
      "outputs": [],
      "source": [
        ""
      ]
    },
    {
      "cell_type": "code",
      "execution_count": null,
      "metadata": {
        "colab": {
          "background_save": true,
          "base_uri": "https://localhost:8080/"
        },
        "id": "TQEbt-8BPaNf",
        "outputId": "e25ce9ce-7a3f-4b55-a384-26d13e782644"
      },
      "outputs": [
        {
          "name": "stdout",
          "output_type": "stream",
          "text": [
            "Epoch 1/25\n",
            "115/115 [==============================] - 20s 133ms/step - loss: 1.5834 - accuracy: 0.3542\n",
            "Epoch 2/25\n",
            "115/115 [==============================] - 15s 133ms/step - loss: 1.2982 - accuracy: 0.4514\n",
            "Epoch 3/25\n",
            "115/115 [==============================] - 15s 133ms/step - loss: 1.2494 - accuracy: 0.4709\n",
            "Epoch 4/25\n",
            "115/115 [==============================] - 15s 134ms/step - loss: 1.2760 - accuracy: 0.4607\n",
            "Epoch 5/25\n",
            "115/115 [==============================] - 15s 132ms/step - loss: 1.1491 - accuracy: 0.5657\n",
            "Epoch 6/25\n",
            "115/115 [==============================] - 15s 133ms/step - loss: 1.0350 - accuracy: 0.5344\n",
            "Epoch 7/25\n",
            "115/115 [==============================] - 15s 133ms/step - loss: 0.9304 - accuracy: 0.5097\n",
            "Epoch 8/25\n",
            "115/115 [==============================] - 15s 133ms/step - loss: 0.8586 - accuracy: 0.5394\n",
            "Epoch 9/25\n",
            "115/115 [==============================] - 15s 134ms/step - loss: 0.8494 - accuracy: 0.5566\n",
            "Epoch 10/25\n",
            "115/115 [==============================] - 15s 134ms/step - loss: 0.8113 - accuracy: 0.5677\n",
            "Epoch 11/25\n",
            "115/115 [==============================] - 15s 135ms/step - loss: 0.7929 - accuracy: 0.5816\n",
            "Epoch 12/25\n",
            "115/115 [==============================] - 16s 137ms/step - loss: 0.7758 - accuracy: 0.6085\n",
            "Epoch 13/25\n",
            "115/115 [==============================] - 16s 137ms/step - loss: 0.7256 - accuracy: 0.6513\n",
            "Epoch 14/25\n",
            "115/115 [==============================] - 16s 137ms/step - loss: 0.6837 - accuracy: 0.6897\n",
            "Epoch 15/25\n",
            "115/115 [==============================] - 16s 137ms/step - loss: 0.6944 - accuracy: 0.6876\n",
            "Epoch 16/25\n",
            "115/115 [==============================] - 16s 137ms/step - loss: 0.6373 - accuracy: 0.7184\n",
            "Epoch 17/25\n",
            "115/115 [==============================] - 16s 137ms/step - loss: 0.5710 - accuracy: 0.7675\n",
            "Epoch 18/25\n",
            "115/115 [==============================] - 16s 138ms/step - loss: 0.6214 - accuracy: 0.7579\n",
            "Epoch 19/25\n",
            "115/115 [==============================] - 16s 138ms/step - loss: 0.5629 - accuracy: 0.7756\n",
            "Epoch 20/25\n",
            "115/115 [==============================] - 16s 135ms/step - loss: 0.5266 - accuracy: 0.7979\n",
            "Epoch 21/25\n",
            "115/115 [==============================] - 16s 135ms/step - loss: 0.4949 - accuracy: 0.8122\n",
            "Epoch 22/25\n",
            "115/115 [==============================] - 16s 137ms/step - loss: 0.4810 - accuracy: 0.8172\n",
            "Epoch 23/25\n",
            "115/115 [==============================] - 16s 135ms/step - loss: 0.4486 - accuracy: 0.8277\n",
            "Epoch 24/25\n",
            "115/115 [==============================] - 15s 133ms/step - loss: 0.5033 - accuracy: 0.8211\n",
            "Epoch 25/25\n",
            "115/115 [==============================] - 15s 133ms/step - loss: 0.4709 - accuracy: 0.8304\n"
          ]
        }
      ],
      "source": [
        "model_4 = keras.Sequential([\n",
        "                            keras.layers.LSTM(6, input_shape=(128, 9), return_sequences=True),\n",
        "                            keras.layers.Dropout(0.2),\n",
        "                            keras.layers.LSTM(6, return_sequences=True),\n",
        "                            keras.layers.Dropout(0.2),\n",
        "                            keras.layers.LSTM(6),\n",
        "                            keras.layers.Dense(6, activation='softmax')\n",
        "])\n",
        "\n",
        "model_4.compile(loss=keras.losses.CategoricalCrossentropy(),\n",
        "             optimizer=keras.optimizers.Adam(learning_rate=0.002),\n",
        "             metrics=['accuracy'])\n",
        "\n",
        "model_4_hist = model_4.fit(ds_train_batch, batch_size=64, epochs=25)"
      ]
    },
    {
      "cell_type": "code",
      "execution_count": null,
      "metadata": {
        "id": "kLB3NcYKno3D"
      },
      "outputs": [],
      "source": [
        ""
      ]
    }
  ],
  "metadata": {
    "colab": {
      "collapsed_sections": [],
      "name": "Activity Recognition.ipynb",
      "provenance": []
    },
    "kernelspec": {
      "display_name": "Python 3",
      "name": "python3"
    },
    "language_info": {
      "name": "python"
    }
  },
  "nbformat": 4,
  "nbformat_minor": 0
}